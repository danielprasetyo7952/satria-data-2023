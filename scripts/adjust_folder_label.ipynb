{
 "cells": [
  {
   "cell_type": "markdown",
   "metadata": {},
   "source": [
    "## create missing folder"
   ]
  },
  {
   "cell_type": "code",
   "execution_count": 1,
   "metadata": {},
   "outputs": [],
   "source": [
    "import os\n",
    "\n",
    "base_path = '../yolov8-dataset-v2-extracted/balanced/'\n",
    "\n",
    "for split in ['test', 'train', 'valid']:\n",
    "    for i in range(36):\n",
    "        folder_name = str(i)\n",
    "        folder_path = os.path.join(base_path, split, folder_name)\n",
    "        os.makedirs(folder_path, exist_ok=True)\n"
   ]
  },
  {
   "cell_type": "code",
   "execution_count": 2,
   "metadata": {},
   "outputs": [],
   "source": [
    "import os\n",
    "\n",
    "base_path = '../yolov8-dataset-v2-extracted/balanced/valid'\n",
    "\n",
    "for i in range(36):\n",
    "    folder_name = str(i)\n",
    "    folder_path = os.path.join(base_path, folder_name)\n",
    "    os.makedirs(folder_path, exist_ok=True)\n"
   ]
  },
  {
   "cell_type": "markdown",
   "metadata": {},
   "source": [
    "## rename to a b c ... z"
   ]
  },
  {
   "cell_type": "code",
   "execution_count": null,
   "metadata": {},
   "outputs": [],
   "source": [
    "import os\n",
    "import string\n",
    "\n",
    "base_path = '../yolov8-dataset-v2-extracted/balanced/'\n",
    "\n",
    "for split in [\"train\", \"valid\", \"test\"]:\n",
    "    for i, letter in zip(range(10, 36), string.ascii_uppercase):\n",
    "        old_folder_name = str(i)\n",
    "        new_folder_name = letter\n",
    "        old_folder_path = os.path.join(base_path, split, old_folder_name)\n",
    "        new_folder_path = os.path.join(base_path, split, new_folder_name)\n",
    "\n",
    "        if os.path.exists(old_folder_path):\n",
    "            os.rename(old_folder_path, new_folder_path)\n",
    "        else:\n",
    "            print(f\"Folder {old_folder_path} does not exist\")\n"
   ]
  },
  {
   "cell_type": "code",
   "execution_count": 5,
   "metadata": {},
   "outputs": [],
   "source": [
    "import os\n",
    "import string\n",
    "\n",
    "base_path = '../yolov8-dataset-v2-extracted/balanced/valid/'\n",
    "\n",
    "for i, letter in zip(range(10, 36), string.ascii_uppercase):\n",
    "    old_folder_name = str(i)\n",
    "    new_folder_name = letter\n",
    "    old_folder_path = os.path.join(base_path, old_folder_name)\n",
    "    new_folder_path = os.path.join(base_path, new_folder_name)\n",
    "\n",
    "    if os.path.exists(new_folder_path):\n",
    "        continue\n",
    "    elif os.path.exists(old_folder_path):\n",
    "        os.rename(old_folder_path, new_folder_path)\n",
    "    else:\n",
    "        print(f\"Folder {old_folder_path} does not exist\")\n"
   ]
  }
 ],
 "metadata": {
  "kernelspec": {
   "display_name": "venv",
   "language": "python",
   "name": "python3"
  },
  "language_info": {
   "codemirror_mode": {
    "name": "ipython",
    "version": 3
   },
   "file_extension": ".py",
   "mimetype": "text/x-python",
   "name": "python",
   "nbconvert_exporter": "python",
   "pygments_lexer": "ipython3",
   "version": "3.11.4"
  },
  "orig_nbformat": 4
 },
 "nbformat": 4,
 "nbformat_minor": 2
}
