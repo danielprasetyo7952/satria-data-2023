{
 "cells": [
  {
   "cell_type": "code",
   "execution_count": 12,
   "metadata": {},
   "outputs": [],
   "source": [
    "import albumentations as A\n",
    "import cv2\n",
    "import os\n",
    "from collections import Counter\n",
    "from sklearn.utils import resample"
   ]
  },
  {
   "cell_type": "code",
   "execution_count": 13,
   "metadata": {},
   "outputs": [],
   "source": [
    "transform = A.Compose(\n",
    "    [\n",
    "        A.Rotate(limit=15, p=1),\n",
    "        # A.RandomBrightnessContrast(brightness_limit=0.05, contrast_limit=0.05, p=1),\n",
    "        # A.GaussianBlur(p=1),\n",
    "        # A.Perspective(scale=(0.07, 0.1), fit_output=True, pad_mode=cv2.BORDER_CONSTANT, pad_val=1, p=0.5)\n",
    "    ]\n",
    ")"
   ]
  },
  {
   "cell_type": "code",
   "execution_count": 17,
   "metadata": {},
   "outputs": [],
   "source": [
    "data_dir = \"../yolov8-dataset-v2-extracted/balanced/test/\"\n",
    "class_names = os.listdir(data_dir)\n",
    "class_counts = Counter()\n",
    "for class_name in class_names:\n",
    "    class_counts[class_name] = len(os.listdir(os.path.join(data_dir, class_name)))\n",
    "max_count = max(class_counts.values())"
   ]
  },
  {
   "cell_type": "code",
   "execution_count": 18,
   "metadata": {},
   "outputs": [
    {
     "name": "stdout",
     "output_type": "stream",
     "text": [
      "max data count: 38\n"
     ]
    }
   ],
   "source": [
    "print(f'max data count: {max_count}')"
   ]
  },
  {
   "cell_type": "code",
   "execution_count": 19,
   "metadata": {},
   "outputs": [],
   "source": [
    "for class_name, count in class_counts.items():\n",
    "    if count < max_count:\n",
    "        diff = max_count - count\n",
    "        image_paths = [\n",
    "            os.path.join(data_dir, class_name, image_name)\n",
    "            for image_name in os.listdir(os.path.join(data_dir, class_name))\n",
    "        ]\n",
    "        image_paths = resample(\n",
    "            image_paths, n_samples=diff, random_state=42, replace=True\n",
    "        )\n",
    "        for i, image_path in enumerate(image_paths):\n",
    "            image = cv2.imread(image_path)\n",
    "            image = cv2.cvtColor(image, cv2.COLOR_BGR2RGB)\n",
    "            transformed = transform(image=image)\n",
    "            transformed_image = transformed[\"image\"]\n",
    "            new_image_path = os.path.join(data_dir, class_name, f\"{i}.jpg\")\n",
    "            transformed_image = cv2.cvtColor(transformed_image, cv2.COLOR_RGB2BGR)\n",
    "            cv2.imwrite(new_image_path, transformed_image)"
   ]
  }
 ],
 "metadata": {
  "kernelspec": {
   "display_name": "venv",
   "language": "python",
   "name": "python3"
  },
  "language_info": {
   "codemirror_mode": {
    "name": "ipython",
    "version": 3
   },
   "file_extension": ".py",
   "mimetype": "text/x-python",
   "name": "python",
   "nbconvert_exporter": "python",
   "pygments_lexer": "ipython3",
   "version": "3.11.4"
  },
  "orig_nbformat": 4
 },
 "nbformat": 4,
 "nbformat_minor": 2
}
