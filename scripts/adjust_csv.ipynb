{
 "cells": [
  {
   "cell_type": "code",
   "execution_count": 2,
   "metadata": {},
   "outputs": [],
   "source": [
    "import os\n",
    "import pandas as pd"
   ]
  },
  {
   "attachments": {},
   "cell_type": "markdown",
   "metadata": {},
   "source": [
    "## Adjust Clean"
   ]
  },
  {
   "cell_type": "code",
   "execution_count": 16,
   "metadata": {},
   "outputs": [],
   "source": [
    "data_path = './data-modified-resized-clean/train/DataTrain.csv'\n",
    "\n",
    "df = pd.read_csv(data_path, delimiter=';')\n",
    "directory = './data-modified-resized-clean/train/data/'\n",
    "df = df.drop('Unnamed: 0', axis=1)"
   ]
  },
  {
   "cell_type": "code",
   "execution_count": 18,
   "metadata": {},
   "outputs": [],
   "source": [
    "# png to jpg\n",
    "df['NameofFile'] = df['NameofFile'].str.replace('.png', '.jpg')"
   ]
  },
  {
   "cell_type": "code",
   "execution_count": 19,
   "metadata": {},
   "outputs": [
    {
     "data": {
      "text/html": [
       "<div>\n",
       "<style scoped>\n",
       "    .dataframe tbody tr th:only-of-type {\n",
       "        vertical-align: middle;\n",
       "    }\n",
       "\n",
       "    .dataframe tbody tr th {\n",
       "        vertical-align: top;\n",
       "    }\n",
       "\n",
       "    .dataframe thead th {\n",
       "        text-align: right;\n",
       "    }\n",
       "</style>\n",
       "<table border=\"1\" class=\"dataframe\">\n",
       "  <thead>\n",
       "    <tr style=\"text-align: right;\">\n",
       "      <th></th>\n",
       "      <th>Vehicleregistrationplate</th>\n",
       "      <th>NameofFile</th>\n",
       "    </tr>\n",
       "  </thead>\n",
       "  <tbody>\n",
       "    <tr>\n",
       "      <th>0</th>\n",
       "      <td>A7814</td>\n",
       "      <td>DataTrain1.jpg</td>\n",
       "    </tr>\n",
       "    <tr>\n",
       "      <th>1</th>\n",
       "      <td>B1074QO</td>\n",
       "      <td>DataTrain2.jpg</td>\n",
       "    </tr>\n",
       "    <tr>\n",
       "      <th>2</th>\n",
       "      <td>B1031QO</td>\n",
       "      <td>DataTrain3.jpg</td>\n",
       "    </tr>\n",
       "    <tr>\n",
       "      <th>3</th>\n",
       "      <td>B187EDA</td>\n",
       "      <td>DataTrain4.jpg</td>\n",
       "    </tr>\n",
       "    <tr>\n",
       "      <th>4</th>\n",
       "      <td>B1089VD</td>\n",
       "      <td>DataTrain5.jpg</td>\n",
       "    </tr>\n",
       "    <tr>\n",
       "      <th>...</th>\n",
       "      <td>...</td>\n",
       "      <td>...</td>\n",
       "    </tr>\n",
       "    <tr>\n",
       "      <th>795</th>\n",
       "      <td>B1677EJC</td>\n",
       "      <td>DataTrain796.jpg</td>\n",
       "    </tr>\n",
       "    <tr>\n",
       "      <th>796</th>\n",
       "      <td>B1743VO</td>\n",
       "      <td>DataTrain797.jpg</td>\n",
       "    </tr>\n",
       "    <tr>\n",
       "      <th>797</th>\n",
       "      <td>AD1416YD</td>\n",
       "      <td>DataTrain798.jpg</td>\n",
       "    </tr>\n",
       "    <tr>\n",
       "      <th>798</th>\n",
       "      <td>AB5419TN</td>\n",
       "      <td>DataTrain799.jpg</td>\n",
       "    </tr>\n",
       "    <tr>\n",
       "      <th>799</th>\n",
       "      <td>AB6315SE</td>\n",
       "      <td>DataTrain800.jpg</td>\n",
       "    </tr>\n",
       "  </tbody>\n",
       "</table>\n",
       "<p>800 rows × 2 columns</p>\n",
       "</div>"
      ],
      "text/plain": [
       "    Vehicleregistrationplate        NameofFile\n",
       "0                      A7814    DataTrain1.jpg\n",
       "1                    B1074QO    DataTrain2.jpg\n",
       "2                    B1031QO    DataTrain3.jpg\n",
       "3                    B187EDA    DataTrain4.jpg\n",
       "4                    B1089VD    DataTrain5.jpg\n",
       "..                       ...               ...\n",
       "795                 B1677EJC  DataTrain796.jpg\n",
       "796                  B1743VO  DataTrain797.jpg\n",
       "797                 AD1416YD  DataTrain798.jpg\n",
       "798                 AB5419TN  DataTrain799.jpg\n",
       "799                 AB6315SE  DataTrain800.jpg\n",
       "\n",
       "[800 rows x 2 columns]"
      ]
     },
     "execution_count": 19,
     "metadata": {},
     "output_type": "execute_result"
    }
   ],
   "source": [
    "df"
   ]
  },
  {
   "cell_type": "code",
   "execution_count": 20,
   "metadata": {},
   "outputs": [],
   "source": [
    "# assuming 'df' is your DataFrame and 'directory' is the directory you want to check\n",
    "df = df[df['NameofFile'].apply(lambda x: os.path.exists(os.path.join(directory, x)))]"
   ]
  },
  {
   "cell_type": "code",
   "execution_count": 21,
   "metadata": {},
   "outputs": [
    {
     "data": {
      "text/html": [
       "<div>\n",
       "<style scoped>\n",
       "    .dataframe tbody tr th:only-of-type {\n",
       "        vertical-align: middle;\n",
       "    }\n",
       "\n",
       "    .dataframe tbody tr th {\n",
       "        vertical-align: top;\n",
       "    }\n",
       "\n",
       "    .dataframe thead th {\n",
       "        text-align: right;\n",
       "    }\n",
       "</style>\n",
       "<table border=\"1\" class=\"dataframe\">\n",
       "  <thead>\n",
       "    <tr style=\"text-align: right;\">\n",
       "      <th></th>\n",
       "      <th>Vehicleregistrationplate</th>\n",
       "      <th>NameofFile</th>\n",
       "    </tr>\n",
       "  </thead>\n",
       "  <tbody>\n",
       "    <tr>\n",
       "      <th>3</th>\n",
       "      <td>B187EDA</td>\n",
       "      <td>DataTrain4.jpg</td>\n",
       "    </tr>\n",
       "    <tr>\n",
       "      <th>4</th>\n",
       "      <td>B1089VD</td>\n",
       "      <td>DataTrain5.jpg</td>\n",
       "    </tr>\n",
       "    <tr>\n",
       "      <th>5</th>\n",
       "      <td>B1972RBP</td>\n",
       "      <td>DataTrain6.jpg</td>\n",
       "    </tr>\n",
       "    <tr>\n",
       "      <th>7</th>\n",
       "      <td>AB6268YQ</td>\n",
       "      <td>DataTrain8.jpg</td>\n",
       "    </tr>\n",
       "    <tr>\n",
       "      <th>9</th>\n",
       "      <td>B1554EJA</td>\n",
       "      <td>DataTrain10.jpg</td>\n",
       "    </tr>\n",
       "    <tr>\n",
       "      <th>...</th>\n",
       "      <td>...</td>\n",
       "      <td>...</td>\n",
       "    </tr>\n",
       "    <tr>\n",
       "      <th>791</th>\n",
       "      <td>A8815VX</td>\n",
       "      <td>DataTrain792.jpg</td>\n",
       "    </tr>\n",
       "    <tr>\n",
       "      <th>793</th>\n",
       "      <td>AB1364AN</td>\n",
       "      <td>DataTrain794.jpg</td>\n",
       "    </tr>\n",
       "    <tr>\n",
       "      <th>795</th>\n",
       "      <td>B1677EJC</td>\n",
       "      <td>DataTrain796.jpg</td>\n",
       "    </tr>\n",
       "    <tr>\n",
       "      <th>796</th>\n",
       "      <td>B1743VO</td>\n",
       "      <td>DataTrain797.jpg</td>\n",
       "    </tr>\n",
       "    <tr>\n",
       "      <th>797</th>\n",
       "      <td>AD1416YD</td>\n",
       "      <td>DataTrain798.jpg</td>\n",
       "    </tr>\n",
       "  </tbody>\n",
       "</table>\n",
       "<p>712 rows × 2 columns</p>\n",
       "</div>"
      ],
      "text/plain": [
       "    Vehicleregistrationplate        NameofFile\n",
       "3                    B187EDA    DataTrain4.jpg\n",
       "4                    B1089VD    DataTrain5.jpg\n",
       "5                   B1972RBP    DataTrain6.jpg\n",
       "7                   AB6268YQ    DataTrain8.jpg\n",
       "9                   B1554EJA   DataTrain10.jpg\n",
       "..                       ...               ...\n",
       "791                  A8815VX  DataTrain792.jpg\n",
       "793                 AB1364AN  DataTrain794.jpg\n",
       "795                 B1677EJC  DataTrain796.jpg\n",
       "796                  B1743VO  DataTrain797.jpg\n",
       "797                 AD1416YD  DataTrain798.jpg\n",
       "\n",
       "[712 rows x 2 columns]"
      ]
     },
     "execution_count": 21,
     "metadata": {},
     "output_type": "execute_result"
    }
   ],
   "source": [
    "df"
   ]
  },
  {
   "cell_type": "code",
   "execution_count": 22,
   "metadata": {},
   "outputs": [],
   "source": [
    "df.to_csv('./data-modified-resized-clean/train/DataTrain-Cleaned.csv', index=False)"
   ]
  },
  {
   "attachments": {},
   "cell_type": "markdown",
   "metadata": {},
   "source": [
    "## Adjust Augment"
   ]
  },
  {
   "cell_type": "code",
   "execution_count": 45,
   "metadata": {},
   "outputs": [],
   "source": [
    "data_path = './data-modified-resized-augment/train-aug/DataTrain.csv'\n",
    "\n",
    "df = pd.read_csv(data_path, delimiter=';')\n",
    "directory = './data-modified-resized-clean/train/data/'\n",
    "df = df.drop('Unnamed: 0', axis=1)\n",
    "\n",
    "repeat = 30"
   ]
  },
  {
   "cell_type": "code",
   "execution_count": 46,
   "metadata": {},
   "outputs": [],
   "source": [
    "paths = df.NameofFile.tolist()\n",
    "labels = df.Vehicleregistrationplate.tolist()\n",
    "adjusted_paths = []\n",
    "adjusted_labels = []"
   ]
  },
  {
   "cell_type": "code",
   "execution_count": 47,
   "metadata": {},
   "outputs": [],
   "source": [
    "for i, label in enumerate(labels):\n",
    "  for j in range(repeat):\n",
    "    img_base, ext = os.path.splitext(paths[i])\n",
    "    img_modified = img_base+f'-{j}'+ext\n",
    "    adjusted_paths.append(img_modified)\n",
    "    adjusted_labels.append(label)"
   ]
  },
  {
   "cell_type": "code",
   "execution_count": 48,
   "metadata": {},
   "outputs": [],
   "source": [
    "modified_df = pd.DataFrame({'labels': adjusted_labels, 'images_path': adjusted_paths})"
   ]
  },
  {
   "cell_type": "code",
   "execution_count": 49,
   "metadata": {},
   "outputs": [
    {
     "data": {
      "text/html": [
       "<div>\n",
       "<style scoped>\n",
       "    .dataframe tbody tr th:only-of-type {\n",
       "        vertical-align: middle;\n",
       "    }\n",
       "\n",
       "    .dataframe tbody tr th {\n",
       "        vertical-align: top;\n",
       "    }\n",
       "\n",
       "    .dataframe thead th {\n",
       "        text-align: right;\n",
       "    }\n",
       "</style>\n",
       "<table border=\"1\" class=\"dataframe\">\n",
       "  <thead>\n",
       "    <tr style=\"text-align: right;\">\n",
       "      <th></th>\n",
       "      <th>labels</th>\n",
       "      <th>images_path</th>\n",
       "    </tr>\n",
       "  </thead>\n",
       "  <tbody>\n",
       "    <tr>\n",
       "      <th>0</th>\n",
       "      <td>A7814</td>\n",
       "      <td>DataTrain1-0.png</td>\n",
       "    </tr>\n",
       "    <tr>\n",
       "      <th>1</th>\n",
       "      <td>A7814</td>\n",
       "      <td>DataTrain1-1.png</td>\n",
       "    </tr>\n",
       "    <tr>\n",
       "      <th>2</th>\n",
       "      <td>A7814</td>\n",
       "      <td>DataTrain1-2.png</td>\n",
       "    </tr>\n",
       "    <tr>\n",
       "      <th>3</th>\n",
       "      <td>A7814</td>\n",
       "      <td>DataTrain1-3.png</td>\n",
       "    </tr>\n",
       "    <tr>\n",
       "      <th>4</th>\n",
       "      <td>A7814</td>\n",
       "      <td>DataTrain1-4.png</td>\n",
       "    </tr>\n",
       "    <tr>\n",
       "      <th>...</th>\n",
       "      <td>...</td>\n",
       "      <td>...</td>\n",
       "    </tr>\n",
       "    <tr>\n",
       "      <th>23995</th>\n",
       "      <td>AB6315SE</td>\n",
       "      <td>DataTrain800-25.png</td>\n",
       "    </tr>\n",
       "    <tr>\n",
       "      <th>23996</th>\n",
       "      <td>AB6315SE</td>\n",
       "      <td>DataTrain800-26.png</td>\n",
       "    </tr>\n",
       "    <tr>\n",
       "      <th>23997</th>\n",
       "      <td>AB6315SE</td>\n",
       "      <td>DataTrain800-27.png</td>\n",
       "    </tr>\n",
       "    <tr>\n",
       "      <th>23998</th>\n",
       "      <td>AB6315SE</td>\n",
       "      <td>DataTrain800-28.png</td>\n",
       "    </tr>\n",
       "    <tr>\n",
       "      <th>23999</th>\n",
       "      <td>AB6315SE</td>\n",
       "      <td>DataTrain800-29.png</td>\n",
       "    </tr>\n",
       "  </tbody>\n",
       "</table>\n",
       "<p>24000 rows × 2 columns</p>\n",
       "</div>"
      ],
      "text/plain": [
       "         labels          images_path\n",
       "0         A7814     DataTrain1-0.png\n",
       "1         A7814     DataTrain1-1.png\n",
       "2         A7814     DataTrain1-2.png\n",
       "3         A7814     DataTrain1-3.png\n",
       "4         A7814     DataTrain1-4.png\n",
       "...         ...                  ...\n",
       "23995  AB6315SE  DataTrain800-25.png\n",
       "23996  AB6315SE  DataTrain800-26.png\n",
       "23997  AB6315SE  DataTrain800-27.png\n",
       "23998  AB6315SE  DataTrain800-28.png\n",
       "23999  AB6315SE  DataTrain800-29.png\n",
       "\n",
       "[24000 rows x 2 columns]"
      ]
     },
     "execution_count": 49,
     "metadata": {},
     "output_type": "execute_result"
    }
   ],
   "source": [
    "modified_df"
   ]
  },
  {
   "cell_type": "code",
   "execution_count": 51,
   "metadata": {},
   "outputs": [],
   "source": [
    "# save the updated DataFrame to a new CSV file\n",
    "modified_df.to_csv('./data-modified-resized-augment/train-aug/updated_labels.csv', index=False)"
   ]
  },
  {
   "cell_type": "markdown",
   "metadata": {},
   "source": [
    "# Adjust Augment Clean"
   ]
  },
  {
   "cell_type": "code",
   "execution_count": 10,
   "metadata": {},
   "outputs": [],
   "source": [
    "data_path = './data-modified-resized-clean-augment/train-aug/DataTrain-Cleaned.csv'\n",
    "\n",
    "df = pd.read_csv(data_path, delimiter=',')\n",
    "directory = './data-modified-resized-clean-augment/train/data/'\n",
    "# df = df.drop('Unnamed: 0', axis=1)\n",
    "\n",
    "repeat = 10"
   ]
  },
  {
   "cell_type": "code",
   "execution_count": 11,
   "metadata": {},
   "outputs": [],
   "source": [
    "paths = df.NameofFile.tolist()\n",
    "labels = df.Vehicleregistrationplate.tolist()\n",
    "adjusted_paths = []\n",
    "adjusted_labels = []"
   ]
  },
  {
   "cell_type": "code",
   "execution_count": 12,
   "metadata": {},
   "outputs": [],
   "source": [
    "for i, label in enumerate(labels):\n",
    "  for j in range(repeat):\n",
    "    img_base, ext = os.path.splitext(paths[i])\n",
    "    img_modified = img_base+f'-{j}'+ext\n",
    "    adjusted_paths.append(img_modified)\n",
    "    adjusted_labels.append(label)"
   ]
  },
  {
   "cell_type": "code",
   "execution_count": 13,
   "metadata": {},
   "outputs": [],
   "source": [
    "modified_df = pd.DataFrame({'labels': adjusted_labels, 'images_path': adjusted_paths})"
   ]
  },
  {
   "cell_type": "code",
   "execution_count": 14,
   "metadata": {},
   "outputs": [
    {
     "data": {
      "text/html": [
       "<div>\n",
       "<style scoped>\n",
       "    .dataframe tbody tr th:only-of-type {\n",
       "        vertical-align: middle;\n",
       "    }\n",
       "\n",
       "    .dataframe tbody tr th {\n",
       "        vertical-align: top;\n",
       "    }\n",
       "\n",
       "    .dataframe thead th {\n",
       "        text-align: right;\n",
       "    }\n",
       "</style>\n",
       "<table border=\"1\" class=\"dataframe\">\n",
       "  <thead>\n",
       "    <tr style=\"text-align: right;\">\n",
       "      <th></th>\n",
       "      <th>labels</th>\n",
       "      <th>images_path</th>\n",
       "    </tr>\n",
       "  </thead>\n",
       "  <tbody>\n",
       "    <tr>\n",
       "      <th>0</th>\n",
       "      <td>B187EDA</td>\n",
       "      <td>DataTrain4-0.jpg</td>\n",
       "    </tr>\n",
       "    <tr>\n",
       "      <th>1</th>\n",
       "      <td>B187EDA</td>\n",
       "      <td>DataTrain4-1.jpg</td>\n",
       "    </tr>\n",
       "    <tr>\n",
       "      <th>2</th>\n",
       "      <td>B187EDA</td>\n",
       "      <td>DataTrain4-2.jpg</td>\n",
       "    </tr>\n",
       "    <tr>\n",
       "      <th>3</th>\n",
       "      <td>B187EDA</td>\n",
       "      <td>DataTrain4-3.jpg</td>\n",
       "    </tr>\n",
       "    <tr>\n",
       "      <th>4</th>\n",
       "      <td>B187EDA</td>\n",
       "      <td>DataTrain4-4.jpg</td>\n",
       "    </tr>\n",
       "    <tr>\n",
       "      <th>...</th>\n",
       "      <td>...</td>\n",
       "      <td>...</td>\n",
       "    </tr>\n",
       "    <tr>\n",
       "      <th>7115</th>\n",
       "      <td>AD1416YD</td>\n",
       "      <td>DataTrain798-5.jpg</td>\n",
       "    </tr>\n",
       "    <tr>\n",
       "      <th>7116</th>\n",
       "      <td>AD1416YD</td>\n",
       "      <td>DataTrain798-6.jpg</td>\n",
       "    </tr>\n",
       "    <tr>\n",
       "      <th>7117</th>\n",
       "      <td>AD1416YD</td>\n",
       "      <td>DataTrain798-7.jpg</td>\n",
       "    </tr>\n",
       "    <tr>\n",
       "      <th>7118</th>\n",
       "      <td>AD1416YD</td>\n",
       "      <td>DataTrain798-8.jpg</td>\n",
       "    </tr>\n",
       "    <tr>\n",
       "      <th>7119</th>\n",
       "      <td>AD1416YD</td>\n",
       "      <td>DataTrain798-9.jpg</td>\n",
       "    </tr>\n",
       "  </tbody>\n",
       "</table>\n",
       "<p>7120 rows × 2 columns</p>\n",
       "</div>"
      ],
      "text/plain": [
       "        labels         images_path\n",
       "0      B187EDA    DataTrain4-0.jpg\n",
       "1      B187EDA    DataTrain4-1.jpg\n",
       "2      B187EDA    DataTrain4-2.jpg\n",
       "3      B187EDA    DataTrain4-3.jpg\n",
       "4      B187EDA    DataTrain4-4.jpg\n",
       "...        ...                 ...\n",
       "7115  AD1416YD  DataTrain798-5.jpg\n",
       "7116  AD1416YD  DataTrain798-6.jpg\n",
       "7117  AD1416YD  DataTrain798-7.jpg\n",
       "7118  AD1416YD  DataTrain798-8.jpg\n",
       "7119  AD1416YD  DataTrain798-9.jpg\n",
       "\n",
       "[7120 rows x 2 columns]"
      ]
     },
     "execution_count": 14,
     "metadata": {},
     "output_type": "execute_result"
    }
   ],
   "source": [
    "modified_df"
   ]
  },
  {
   "cell_type": "code",
   "execution_count": 9,
   "metadata": {},
   "outputs": [],
   "source": [
    "# save the updated DataFrame to a new CSV file\n",
    "modified_df.to_csv('./data-modified-resized-clean-augment/train-aug-v2/updated_labels.csv', index=False)"
   ]
  },
  {
   "cell_type": "markdown",
   "metadata": {},
   "source": [
    "## Adjust Localized Augment"
   ]
  },
  {
   "cell_type": "code",
   "execution_count": 3,
   "metadata": {},
   "outputs": [],
   "source": [
    "data_path = './data-original/train/DataTrain.csv'\n",
    "\n",
    "df = pd.read_csv(data_path, delimiter=';')\n",
    "directory = './data-modified-resized-clean-augment/train/data/'\n",
    "df = df.drop('Unnamed: 0', axis=1)\n",
    "\n",
    "repeat = 50"
   ]
  },
  {
   "cell_type": "code",
   "execution_count": 4,
   "metadata": {},
   "outputs": [],
   "source": [
    "paths = df.NameofFile.tolist()\n",
    "labels = df.Vehicleregistrationplate.tolist()\n",
    "adjusted_paths = []\n",
    "adjusted_labels = []"
   ]
  },
  {
   "cell_type": "code",
   "execution_count": 5,
   "metadata": {},
   "outputs": [],
   "source": [
    "for i, label in enumerate(labels):\n",
    "  for j in range(repeat):\n",
    "    img_base, ext = os.path.splitext(paths[i])\n",
    "    img_modified = img_base+f'-{j}'+ext\n",
    "    adjusted_paths.append(img_modified)\n",
    "    adjusted_labels.append(label)"
   ]
  },
  {
   "cell_type": "code",
   "execution_count": 6,
   "metadata": {},
   "outputs": [],
   "source": [
    "modified_df = pd.DataFrame({'labels': adjusted_labels, 'images_path': adjusted_paths})"
   ]
  },
  {
   "cell_type": "code",
   "execution_count": 7,
   "metadata": {},
   "outputs": [
    {
     "data": {
      "text/html": [
       "<div>\n",
       "<style scoped>\n",
       "    .dataframe tbody tr th:only-of-type {\n",
       "        vertical-align: middle;\n",
       "    }\n",
       "\n",
       "    .dataframe tbody tr th {\n",
       "        vertical-align: top;\n",
       "    }\n",
       "\n",
       "    .dataframe thead th {\n",
       "        text-align: right;\n",
       "    }\n",
       "</style>\n",
       "<table border=\"1\" class=\"dataframe\">\n",
       "  <thead>\n",
       "    <tr style=\"text-align: right;\">\n",
       "      <th></th>\n",
       "      <th>labels</th>\n",
       "      <th>images_path</th>\n",
       "    </tr>\n",
       "  </thead>\n",
       "  <tbody>\n",
       "    <tr>\n",
       "      <th>0</th>\n",
       "      <td>A7814</td>\n",
       "      <td>DataTrain1-0.png</td>\n",
       "    </tr>\n",
       "    <tr>\n",
       "      <th>1</th>\n",
       "      <td>A7814</td>\n",
       "      <td>DataTrain1-1.png</td>\n",
       "    </tr>\n",
       "    <tr>\n",
       "      <th>2</th>\n",
       "      <td>A7814</td>\n",
       "      <td>DataTrain1-2.png</td>\n",
       "    </tr>\n",
       "    <tr>\n",
       "      <th>3</th>\n",
       "      <td>A7814</td>\n",
       "      <td>DataTrain1-3.png</td>\n",
       "    </tr>\n",
       "    <tr>\n",
       "      <th>4</th>\n",
       "      <td>A7814</td>\n",
       "      <td>DataTrain1-4.png</td>\n",
       "    </tr>\n",
       "    <tr>\n",
       "      <th>...</th>\n",
       "      <td>...</td>\n",
       "      <td>...</td>\n",
       "    </tr>\n",
       "    <tr>\n",
       "      <th>39995</th>\n",
       "      <td>AB6315SE</td>\n",
       "      <td>DataTrain800-45.png</td>\n",
       "    </tr>\n",
       "    <tr>\n",
       "      <th>39996</th>\n",
       "      <td>AB6315SE</td>\n",
       "      <td>DataTrain800-46.png</td>\n",
       "    </tr>\n",
       "    <tr>\n",
       "      <th>39997</th>\n",
       "      <td>AB6315SE</td>\n",
       "      <td>DataTrain800-47.png</td>\n",
       "    </tr>\n",
       "    <tr>\n",
       "      <th>39998</th>\n",
       "      <td>AB6315SE</td>\n",
       "      <td>DataTrain800-48.png</td>\n",
       "    </tr>\n",
       "    <tr>\n",
       "      <th>39999</th>\n",
       "      <td>AB6315SE</td>\n",
       "      <td>DataTrain800-49.png</td>\n",
       "    </tr>\n",
       "  </tbody>\n",
       "</table>\n",
       "<p>40000 rows × 2 columns</p>\n",
       "</div>"
      ],
      "text/plain": [
       "         labels          images_path\n",
       "0         A7814     DataTrain1-0.png\n",
       "1         A7814     DataTrain1-1.png\n",
       "2         A7814     DataTrain1-2.png\n",
       "3         A7814     DataTrain1-3.png\n",
       "4         A7814     DataTrain1-4.png\n",
       "...         ...                  ...\n",
       "39995  AB6315SE  DataTrain800-45.png\n",
       "39996  AB6315SE  DataTrain800-46.png\n",
       "39997  AB6315SE  DataTrain800-47.png\n",
       "39998  AB6315SE  DataTrain800-48.png\n",
       "39999  AB6315SE  DataTrain800-49.png\n",
       "\n",
       "[40000 rows x 2 columns]"
      ]
     },
     "execution_count": 7,
     "metadata": {},
     "output_type": "execute_result"
    }
   ],
   "source": [
    "modified_df"
   ]
  },
  {
   "cell_type": "code",
   "execution_count": 8,
   "metadata": {},
   "outputs": [],
   "source": [
    "# save the updated DataFrame to a new CSV file\n",
    "modified_df.to_csv('./data-modified-localized/train-aug/updated_labels.csv', index=False)"
   ]
  },
  {
   "attachments": {},
   "cell_type": "markdown",
   "metadata": {},
   "source": [
    "## Adjust localized augment clean"
   ]
  },
  {
   "cell_type": "code",
   "execution_count": 3,
   "metadata": {},
   "outputs": [],
   "source": [
    "data_path = './data-modified-resized-clean-augment/train-aug/DataTrain-Cleaned.csv'\n",
    "\n",
    "df = pd.read_csv(data_path, delimiter=',')\n",
    "directory = './data-modified-resized-clean-augment/train/data/'\n",
    "# df = df.drop('Unnamed: 0', axis=1)\n",
    "\n",
    "repeat = 50"
   ]
  },
  {
   "cell_type": "code",
   "execution_count": 4,
   "metadata": {},
   "outputs": [],
   "source": [
    "paths = df.NameofFile.tolist()\n",
    "labels = df.Vehicleregistrationplate.tolist()\n",
    "adjusted_paths = []\n",
    "adjusted_labels = []"
   ]
  },
  {
   "cell_type": "code",
   "execution_count": 5,
   "metadata": {},
   "outputs": [],
   "source": [
    "for i, label in enumerate(labels):\n",
    "  for j in range(repeat):\n",
    "    img_base, ext = os.path.splitext(paths[i])\n",
    "    img_modified = img_base+f'-{j}'+ext\n",
    "    adjusted_paths.append(img_modified)\n",
    "    adjusted_labels.append(label)"
   ]
  },
  {
   "cell_type": "code",
   "execution_count": 6,
   "metadata": {},
   "outputs": [],
   "source": [
    "modified_df = pd.DataFrame({'labels': adjusted_labels, 'images_path': adjusted_paths})"
   ]
  },
  {
   "cell_type": "code",
   "execution_count": 7,
   "metadata": {},
   "outputs": [
    {
     "data": {
      "text/html": [
       "<div>\n",
       "<style scoped>\n",
       "    .dataframe tbody tr th:only-of-type {\n",
       "        vertical-align: middle;\n",
       "    }\n",
       "\n",
       "    .dataframe tbody tr th {\n",
       "        vertical-align: top;\n",
       "    }\n",
       "\n",
       "    .dataframe thead th {\n",
       "        text-align: right;\n",
       "    }\n",
       "</style>\n",
       "<table border=\"1\" class=\"dataframe\">\n",
       "  <thead>\n",
       "    <tr style=\"text-align: right;\">\n",
       "      <th></th>\n",
       "      <th>labels</th>\n",
       "      <th>images_path</th>\n",
       "    </tr>\n",
       "  </thead>\n",
       "  <tbody>\n",
       "    <tr>\n",
       "      <th>0</th>\n",
       "      <td>B187EDA</td>\n",
       "      <td>DataTrain4-0.jpg</td>\n",
       "    </tr>\n",
       "    <tr>\n",
       "      <th>1</th>\n",
       "      <td>B187EDA</td>\n",
       "      <td>DataTrain4-1.jpg</td>\n",
       "    </tr>\n",
       "    <tr>\n",
       "      <th>2</th>\n",
       "      <td>B187EDA</td>\n",
       "      <td>DataTrain4-2.jpg</td>\n",
       "    </tr>\n",
       "    <tr>\n",
       "      <th>3</th>\n",
       "      <td>B187EDA</td>\n",
       "      <td>DataTrain4-3.jpg</td>\n",
       "    </tr>\n",
       "    <tr>\n",
       "      <th>4</th>\n",
       "      <td>B187EDA</td>\n",
       "      <td>DataTrain4-4.jpg</td>\n",
       "    </tr>\n",
       "    <tr>\n",
       "      <th>...</th>\n",
       "      <td>...</td>\n",
       "      <td>...</td>\n",
       "    </tr>\n",
       "    <tr>\n",
       "      <th>35595</th>\n",
       "      <td>AD1416YD</td>\n",
       "      <td>DataTrain798-45.jpg</td>\n",
       "    </tr>\n",
       "    <tr>\n",
       "      <th>35596</th>\n",
       "      <td>AD1416YD</td>\n",
       "      <td>DataTrain798-46.jpg</td>\n",
       "    </tr>\n",
       "    <tr>\n",
       "      <th>35597</th>\n",
       "      <td>AD1416YD</td>\n",
       "      <td>DataTrain798-47.jpg</td>\n",
       "    </tr>\n",
       "    <tr>\n",
       "      <th>35598</th>\n",
       "      <td>AD1416YD</td>\n",
       "      <td>DataTrain798-48.jpg</td>\n",
       "    </tr>\n",
       "    <tr>\n",
       "      <th>35599</th>\n",
       "      <td>AD1416YD</td>\n",
       "      <td>DataTrain798-49.jpg</td>\n",
       "    </tr>\n",
       "  </tbody>\n",
       "</table>\n",
       "<p>35600 rows × 2 columns</p>\n",
       "</div>"
      ],
      "text/plain": [
       "         labels          images_path\n",
       "0       B187EDA     DataTrain4-0.jpg\n",
       "1       B187EDA     DataTrain4-1.jpg\n",
       "2       B187EDA     DataTrain4-2.jpg\n",
       "3       B187EDA     DataTrain4-3.jpg\n",
       "4       B187EDA     DataTrain4-4.jpg\n",
       "...         ...                  ...\n",
       "35595  AD1416YD  DataTrain798-45.jpg\n",
       "35596  AD1416YD  DataTrain798-46.jpg\n",
       "35597  AD1416YD  DataTrain798-47.jpg\n",
       "35598  AD1416YD  DataTrain798-48.jpg\n",
       "35599  AD1416YD  DataTrain798-49.jpg\n",
       "\n",
       "[35600 rows x 2 columns]"
      ]
     },
     "execution_count": 7,
     "metadata": {},
     "output_type": "execute_result"
    }
   ],
   "source": [
    "modified_df"
   ]
  },
  {
   "cell_type": "code",
   "execution_count": 8,
   "metadata": {},
   "outputs": [],
   "source": [
    "# save the updated DataFrame to a new CSV file\n",
    "modified_df.to_csv('./data-modified-localized-clean/train-aug/updated_labels.csv', index=False)"
   ]
  }
 ],
 "metadata": {
  "kernelspec": {
   "display_name": "venv",
   "language": "python",
   "name": "python3"
  },
  "language_info": {
   "codemirror_mode": {
    "name": "ipython",
    "version": 3
   },
   "file_extension": ".py",
   "mimetype": "text/x-python",
   "name": "python",
   "nbconvert_exporter": "python",
   "pygments_lexer": "ipython3",
   "version": "3.11.4"
  },
  "orig_nbformat": 4
 },
 "nbformat": 4,
 "nbformat_minor": 2
}
